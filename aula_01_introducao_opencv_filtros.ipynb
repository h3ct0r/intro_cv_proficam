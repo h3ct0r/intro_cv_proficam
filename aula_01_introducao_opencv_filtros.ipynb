{
 "cells": [
  {
   "cell_type": "markdown",
   "metadata": {
    "id": "NSfOinOQNKF_"
   },
   "source": [
    "# **Mestrado Profisional PROFICAM - ITV**\n",
    "\n",
    "## **Introdução a Visão Computacional**\n",
    "\n",
    "### Aula 01 - Introdução ao processamento de imagens com OpenCV/Filtros\n",
    "\n",
    "Documentação extra do OpenCV pode ser visualizada em: https://docs.opencv.org/master/d6/d00/tutorial_py_root.html"
   ]
  },
  {
   "cell_type": "markdown",
   "metadata": {
    "id": "yDuGcqq7fcP2"
   },
   "source": [
    "Importar as bibliotecas e dependencias necessarias"
   ]
  },
  {
   "cell_type": "code",
   "execution_count": 1,
   "metadata": {
    "id": "s_OtnBD-fcP3"
   },
   "outputs": [],
   "source": [
    "# import para melhorar a compatibilidade entre python2 e python3 \n",
    "    \n",
    "from __future__ import print_function"
   ]
  },
  {
   "cell_type": "code",
   "execution_count": null,
   "metadata": {
    "id": "uHCpFLAVNROK"
   },
   "outputs": [],
   "source": [
    "# Imports necessários\n",
    "\n",
    "from skimage import io\n",
    "import numpy as np\n",
    "import matplotlib.pyplot as plt\n",
    "import imutils\n",
    "\n",
    "import cv2\n",
    "# from google.colab.patches import cv2_imshow\n",
    "# cv2_imshow pode ser usado tambem para mostrar imagens ao invez do matplotlib\n",
    "# so funciona no google colab!\n",
    "%matplotlib inline"
   ]
  },
  {
   "cell_type": "markdown",
   "metadata": {
    "id": "j_baPXJifcP4"
   },
   "source": [
    "### Tip sobre a documentação de python no google ambiente jupyter/ipython/colab\n",
    "\n",
    "No notebook de Jypyter as funções podem ser auto completadas usando \"tab\" diretamente no notebook, ou usando o carater ``?``. \n",
    "\n",
    "Por exemplo, para mostrar o conteudo do namespace do numpy pode ser usado a seguinte forma:\n",
    "\n",
    "```ipython\n",
    "In [3]: np.<TAB>\n",
    "```\n",
    "\n",
    "E para mostrar a documentação interna da função de numpy pode ser usado:\n",
    "\n",
    "```ipython\n",
    "In [4]: np?\n",
    "```\n",
    "\n",
    "A documentação detalhada, com tutoriais e outros recursos podem ser encontrados em http://www.numpy.org."
   ]
  },
  {
   "cell_type": "code",
   "execution_count": null,
   "metadata": {
    "id": "1W4KuQmKfcP4"
   },
   "outputs": [],
   "source": [
    "# ao executar esse comando vai mostrar a documentação da função ABS (valor absoluto) do numpy\n",
    "np.abs?"
   ]
  },
  {
   "cell_type": "markdown",
   "metadata": {
    "id": "zwydnjpifcP5"
   },
   "source": [
    "## Usando OpenCV\n",
    "\n",
    "Verificar a versão que temos instalada:"
   ]
  },
  {
   "cell_type": "code",
   "execution_count": null,
   "metadata": {
    "id": "cZICSCb616M2"
   },
   "outputs": [],
   "source": [
    "print(\"OpenCV version:\", cv2.__version__)"
   ]
  },
  {
   "cell_type": "markdown",
   "metadata": {
    "id": "-C6bAtUlSRDE"
   },
   "source": [
    "Inicialmente precisamos clonar o repositorio com as imagens que vamos usar para os experimentos"
   ]
  },
  {
   "cell_type": "code",
   "execution_count": null,
   "metadata": {
    "id": "lX7Y2Ds-f1D1"
   },
   "outputs": [],
   "source": [
    "# Baixar os arquivos necessários para a aula\n",
    "!rm -rf intro_cv_proficam\n",
    "!git clone https://github.com/h3ct0r/intro_cv_proficam\n",
    "!cp -r intro_cv_proficam/img img"
   ]
  },
  {
   "cell_type": "code",
   "execution_count": null,
   "metadata": {
    "id": "wAi8dkLVTYXe"
   },
   "outputs": [],
   "source": [
    "# Carregar a imagem do dataset\n",
    "img = cv2.imread('img/mine_worker.jpg')"
   ]
  },
  {
   "cell_type": "markdown",
   "metadata": {
    "id": "QxfkKO3dZL7q"
   },
   "source": [
    "Temos varias formas de plotar as imagens em OpenCV no ambiente COLAB. Podemos umas uma função de OpenCV diretramente, ou usar uma biblioteca de plots e gráficos chamada Matplotlib.\n",
    "\n",
    "O que acontece ao plotar cada uma?"
   ]
  },
  {
   "cell_type": "code",
   "execution_count": null,
   "metadata": {
    "id": "mYaBQMKBaT9v"
   },
   "outputs": [],
   "source": [
    "# Plotar imagem\n",
    "#cv2_imshow(img) # plotar com a funcao de OpenCV diretamente\n",
    "plt.imshow(img) # plotar usando matplotlib"
   ]
  },
  {
   "cell_type": "markdown",
   "metadata": {
    "id": "E7Cb3sbBTtsu"
   },
   "source": [
    "#### **Análise dos pixels e dos canais de cores**"
   ]
  },
  {
   "cell_type": "markdown",
   "metadata": {
    "id": "KJj2LGJ0Zj-S"
   },
   "source": [
    "A imagem plotada com matplotlib tem as cores \"extranhas\". Isso é pela forma em que as cores são organizadas nas imagens de OpenCV: BGR ao invez de RGB. Para converter para RGB, podemos usar o seguinte comando:"
   ]
  },
  {
   "cell_type": "code",
   "execution_count": null,
   "metadata": {
    "id": "LPuEnNrYTgdL"
   },
   "outputs": [],
   "source": [
    "# converter e plotar imagem em RGB\n",
    "img_rgb = cv2.cvtColor(img, cv2.COLOR_BGR2RGB)\n",
    "plt.imshow(img_rgb)"
   ]
  },
  {
   "cell_type": "code",
   "execution_count": null,
   "metadata": {
    "id": "WIIlYoAlZpC8"
   },
   "outputs": [],
   "source": [
    "# Ver os valores dos pixels em uma posição\n",
    "img_rgb[0,0]"
   ]
  },
  {
   "cell_type": "code",
   "execution_count": null,
   "metadata": {
    "id": "5Bt7XozgTjGU"
   },
   "outputs": [],
   "source": [
    "# Para visualizar a forma desta imagem e os canais de cor usamos \"shape\"\n",
    "img_rgb.shape"
   ]
  },
  {
   "cell_type": "code",
   "execution_count": null,
   "metadata": {
    "id": "84KA19bob0-P"
   },
   "outputs": [],
   "source": [
    "# plotar canais separados VERMELHO\n",
    "plt.imshow(img_rgb[:, :, 0], cmap='gray')"
   ]
  },
  {
   "cell_type": "code",
   "execution_count": null,
   "metadata": {
    "id": "lw0407n_aU_p"
   },
   "outputs": [],
   "source": [
    "# plotar canais separados VERDE\n",
    "plt.imshow(img_rgb[:, :, 1], cmap='gray')"
   ]
  },
  {
   "cell_type": "code",
   "execution_count": null,
   "metadata": {
    "id": "EJ48ze6DaVO4"
   },
   "outputs": [],
   "source": [
    "# plotar canais separados AZUL\n",
    "plt.imshow(img_rgb[:, :, 2], cmap='gray')"
   ]
  },
  {
   "cell_type": "code",
   "execution_count": null,
   "metadata": {
    "id": "eA8aHLk1cFjw"
   },
   "outputs": [],
   "source": [
    "# Print shape de um único canal\n",
    "img_rgb[:, :, 0].shape"
   ]
  },
  {
   "cell_type": "code",
   "execution_count": null,
   "metadata": {
    "id": "p6eriiHlao1Y"
   },
   "outputs": [],
   "source": [
    "# converter imagem em tons de cinza para facilitar manipulação\n",
    "img_gray = cv2.cvtColor(img_rgb, cv2.COLOR_RGB2GRAY)\n",
    "#cv2_imshow(img_gray)\n",
    "plt.imshow(img_gray, cmap='gray')"
   ]
  },
  {
   "cell_type": "code",
   "execution_count": null,
   "metadata": {
    "id": "EIGGUzqGg9Gr"
   },
   "outputs": [],
   "source": [
    "# Fatiamento da imagem\n",
    "img_crop = img_gray[170:320, 260:410]\n",
    "#cv2_imshow(img_crop)\n",
    "plt.imshow(img_crop, cmap='gray')\n",
    "img_crop.shape"
   ]
  },
  {
   "cell_type": "code",
   "execution_count": null,
   "metadata": {
    "id": "7gisWiFShq2A"
   },
   "outputs": [],
   "source": [
    "# Captando a ROI da imagem\n",
    "img_roi = img_rgb.copy()\n",
    "cv2.rectangle(img_roi, (110,170), (540, 610), (255, 0, 0), 4)\n",
    "cv2.rectangle(img_roi, (420, 250), (550, 450), (0, 0, 198), 4)\n",
    "#cv2_imshow(img_roi)\n",
    "plt.imshow(img_roi, cmap='gray')"
   ]
  },
  {
   "cell_type": "markdown",
   "metadata": {
    "id": "bK209ZwcfcQA"
   },
   "source": [
    "#### Diferenças em imagens\n",
    "\n",
    "Será que existe alguma diferença nessas duas imagens da selva? Como podemos saber a diferença entre elas?"
   ]
  },
  {
   "cell_type": "code",
   "execution_count": null,
   "metadata": {
    "id": "WohaUjB-fcQA"
   },
   "outputs": [],
   "source": [
    "jungle1 = cv2.imread('img/jungle1.jpeg', cv2.IMREAD_GRAYSCALE)\n",
    "jungle2 = cv2.imread('img/jungle2.jpeg', cv2.IMREAD_GRAYSCALE)\n",
    "\n",
    "plt.figure(figsize=(14, 9)) \n",
    "plt.subplot2grid((1,2),(0,0)) #(linhas, colunas) do grid (l,c) do elemento\n",
    "plt.title(\"Jungle 1\")\n",
    "plt.imshow(jungle1, cmap='gray')\n",
    "\n",
    "plt.subplot2grid((1,2),(0,1)) #(linhas, colunas) do grid (l,c) do elemento\n",
    "plt.title(\"Jungle 2\")\n",
    "plt.imshow(jungle2, cmap='gray')"
   ]
  },
  {
   "cell_type": "markdown",
   "metadata": {
    "id": "dv7m2virfcQA"
   },
   "source": [
    "Usando as operações matemáticas matriciais do numpy podemos simplesmente restar as duas imagens!\n",
    "\n",
    "Dica: Uma outra opção é fazer um for e iterar cada pixel da imagem. Só que isso é mais ineficiente e devagar, as operações matriciais são extremamente otimizadas e devem ser usadas preferencialmente!"
   ]
  },
  {
   "cell_type": "code",
   "execution_count": null,
   "metadata": {
    "id": "TDqwGDeIfcQA"
   },
   "outputs": [],
   "source": [
    "# resta as duas imagens!\n",
    "diff_jungle = jungle1 - jungle2\n",
    "\n",
    "plt.figure(figsize=(14, 9))  # define o tamanho total da imagem\n",
    "plt.subplot2grid((1,3),(0,0)) #(linhas, colunas) do grid (l,c) do elemento\n",
    "plt.title(\"Jungle 1\")\n",
    "plt.imshow(jungle1, cmap='gray')\n",
    "\n",
    "plt.subplot2grid((1,3),(0,1)) #(linhas, colunas) do grid (l,c) do elemento\n",
    "plt.title(\"Jungle 2\")\n",
    "plt.imshow(jungle2, cmap='gray')\n",
    "\n",
    "plt.subplot2grid((1,3),(0,2)) #(linhas, colunas) do grid (l,c) do elemento\n",
    "plt.title(\"Difference of both jungle imgs\")\n",
    "plt.imshow(diff_jungle, cmap='gray')"
   ]
  },
  {
   "cell_type": "markdown",
   "metadata": {
    "id": "lfqDrIOBcTu3"
   },
   "source": [
    "#### **Transformações de imagem**"
   ]
  },
  {
   "cell_type": "markdown",
   "metadata": {
    "id": "Aaxh8e7tcZeP"
   },
   "source": [
    "Como rotacionar e transladar uma imagem?\n",
    "Como sumar e restar imagens? Mixturar?"
   ]
  },
  {
   "cell_type": "code",
   "execution_count": null,
   "metadata": {
    "id": "qR_zvrySce9P"
   },
   "outputs": [],
   "source": [
    "shark = cv2.imread('img/shark.jpg')\n",
    "shark = cv2.cvtColor(shark, cv2.COLOR_BGR2RGB)\n",
    "\n",
    "bike = cv2.imread('img/bike.jpg')\n",
    "bike = cv2.cvtColor(bike, cv2.COLOR_BGR2RGB)\n",
    "\n",
    "plt.figure(figsize=(14, 9)) \n",
    "plt.subplot2grid((1,2),(0,0))\n",
    "plt.imshow(shark)\n",
    "\n",
    "plt.subplot2grid((1,2),(0,1))\n",
    "plt.imshow(bike)"
   ]
  },
  {
   "cell_type": "code",
   "execution_count": null,
   "metadata": {
    "id": "csKQ6ScLc2A6"
   },
   "outputs": [],
   "source": [
    "# somar as duas imagens diretamente satura as cores! (valores dos pixels chegam a 255)\n",
    "img_sum = shark + bike\n",
    "plt.imshow(img_sum)"
   ]
  },
  {
   "cell_type": "code",
   "execution_count": null,
   "metadata": {
    "id": "cvu0Bq6IdUrJ"
   },
   "outputs": [],
   "source": [
    "# para ter uma transição suave podemos colocar pessos nas imagens \n",
    "img_sum = shark * 0.2 + bike * 0.8\n",
    "plt.imshow(np.uint8(img_sum))  # convertemos a imagem de float para int novamente com np.uint8()"
   ]
  },
  {
   "cell_type": "code",
   "execution_count": null,
   "metadata": {
    "id": "cMi1Pbn6duui"
   },
   "outputs": [],
   "source": [
    "fish = cv2.imread('/content/intro_cv_proficam/img/fish.png', -1)\n",
    "plt.imshow(fish)"
   ]
  },
  {
   "cell_type": "markdown",
   "metadata": {
    "id": "k-QNexXjlE04"
   },
   "source": [
    "Transladar um objeto numa direção (x, y) podemos usar a matriz de transformação M dada por:\n",
    "\n",
    "![22fe551f03b8e94f1a7a75731a660f0163030540.png](data:image/png;base64,iVBORw0KGgoAAAANSUhEUgAAAHoAAAAtBAMAAACT/GKYAAAAMFBMVEX///8AAAAAAAAAAAAAAAAAAAAAAAAAAAAAAAAAAAAAAAAAAAAAAAAAAAAAAAAAAAAv3aB7AAAAD3RSTlMAr/NI3b+d+3Tpi2DPGDKIsRwAAAAB2ElEQVRIx7WWv0vDQBTHv2k0TdM2rdqp/4IIEQVxiqPo0F0dMvpr6KZjBKm6SFVw1DgogoIdBEfr7qDgIIh4jrqoFAcRq6k2uYppepfg4wjvXfjce/frywFNTP98gb/lPj+a/hu8vWhBJ299aLS2/6SvSjQu7NFA1Rjo+yMKxIew4QZtFkvuFKXbTBy6QYpw0ikNJ24wAE76iUB3trB3PctJ66TW6jaCMHSVu3INp07l8TwvbbtLji+UIe8WDJ4dszBL/ZvrxIHJQdunZcvxI5qBCKlX3lmpjfeq/aEvc2u0s7DrDiVnCaLOvKV5+7OS5roly4tx8kMra4Col7johZ39eu6+CbuY06A31JoCzExQ2liCqG0Gzq1DTla+w4lz28546Di5I6b8HDC3guiq1j4UkJYQm0TECFj5IxLF2hUKlLt9zpJKwva4By1PzzRo/yj4NPUYMbckNfsOPk0dhlKmHQ00k6ZWqIr8plk0Va1C/PCimTRVrNaaV24WTW1Os2iqas/bs3I2TX2H7LlqQpmFHoHkuWO2pkplodT6tBAv2tZUqydGWtDyND2/ycxbV4OmJovREC8P2egPQQtmRwhaHesOQYvIh6AflLQv7f/SVPb8X5pM9gXFjLwEn6ZJHwAAAABJRU5ErkJggg==)"
   ]
  },
  {
   "cell_type": "code",
   "execution_count": null,
   "metadata": {
    "id": "4_JqrSZkd3iS"
   },
   "outputs": [],
   "source": [
    "# transladar o peixe\n",
    "rows, cols, c = fish.shape\n",
    "x_offset = 100\n",
    "y_offset = 30\n",
    "M = np.float32([[1, 0, x_offset],[0, 1, y_offset]])\n",
    "\n",
    "print(\"M:\", M)\n",
    "\n",
    "dst = cv2.warpAffine(fish, M, (cols,rows))\n",
    "\n",
    "plt.imshow(dst)"
   ]
  },
  {
   "cell_type": "markdown",
   "metadata": {
    "id": "DvycHTKgllEx"
   },
   "source": [
    "A rotação num angulo especifico Tetha é dada pela matriz:\n",
    "\n",
    "![f3a6bed945808a1f3a9df71b260f68f8e653af95.png](data:image/png;base64,iVBORw0KGgoAAAANSUhEUgAAAJ0AAAAtBAMAAABGwnSQAAAAMFBMVEX///8AAAAAAAAAAAAAAAAAAAAAAAAAAAAAAAAAAAAAAAAAAAAAAAAAAAAAAAAAAAAv3aB7AAAAD3RSTlMAGDJIYHSLna+/z93p8/uKPJpAAAACyElEQVR42u2XP2gTURzHP/cvlzRNcop0bA4HUVBy4GIXcziUIoKhYAulrWnBq0qRq9gq6nBQ6B+kkEFq6dShIDhIpTjpEKd2M9TV4bAqThJbEcQhckksJWlzph508QcPjntfPrz37t773MHeJZVKDk1WtFTS9uuT3hyh6TqS3J+X5wCVOETeyOReOcWtXoTuGU3x1MzpvXKCXr0YF/NN8S6SaDRTeYliU7x3pBrxYoboz+u5otN73UCxhuU8t+rWzhqWb6DcbbtpcomQ68eLOK1OxBZcupiOrs+8r810Md0WN46lskqe1zNzvus3isQofGcWLW7wpTYzi2amMAdQV9gk7vjxPuM1YZv0LyOJ9G2n75VXtnebWVigxRaKpDUfnriF15Qi9LnniSzVhfpcNuEjCV1yWfR7n6UiHC/SakczuGdo12u3fwZXKZhikQFZLAgffPfHBqq+wX2impSLs1x3nGhSLuzYoTwLKm6L+Yc3t+11/jTqeCetIU6NZJEtC2XErHuFLQtpXgtnOTdGz52d/at+AvqdwM6D0DpIaTMw3tlFUC4Hd15lH0LmUXA8exDJWAtwfGkUwXvGRJ555fwbT9aTesbbBAGNL0S824isBMZTaR0nZgc23xO05EkZQY0v8jWrmuG3j/fjDTb22y65/Z0vjzb22y65EZjfKnIjML9V5ObP67H0zhy9Y9YydX5TrnWjTEyWQxW5+fJkJzyW3RQu/KCfOr8tsM4T2r2QXZGbLy+cE2SxKCsFHlDrt1AeI5QnYYZzQlVuvjyptEo4R8ThKbv95lU8W25JQyqtVuXmv37Kc29ccZMtav2W0svtqheqys2X95I4AzIplIJZ67c0iClY80JVufnyXtDBjMooEceu9VtM53ZMV5fKoYrcfHmdVpaOIaaQprVav4lTlibOT1RCFbkd8vfuf15TvID/tw5avwFoyuOo1ddbCgAAAABJRU5ErkJggg==)\n",
    "\n",
    "Mas OpenCV fornece uma rotação com escala e centro de rotação ajustavel, assim a imagem pode ser rotacionada desde qualquer ponto. A matriz de rotação modificada vem dada por:\n",
    "\n",
    "![91ff2b9b1db0760f4764631010749e594cdf5f5f.png](data:image/png;base64,iVBORw0KGgoAAAANSUhEUgAAAUMAAAAtBAMAAADGlBSqAAAAMFBMVEX///8AAAAAAAAAAAAAAAAAAAAAAAAAAAAAAAAAAAAAAAAAAAAAAAAAAAAAAAAAAAAv3aB7AAAAD3RSTlMAGDJIYHSLna+/z93p8/uKPJpAAAAD+klEQVR42u2ZW0gUURjH/3N1l704hYQV5AQhEoQSBWKWo9FTL0akEAWzhJOG0ERkD75MSNtDQUJU0pNBoEQP0VXYHjYIgiKQLu+CFvRmEtFDYKw7zpwztz17kRSat2/3/L/9zcyZM+fHomv5N9bvkVheVtC5SVnHiNjUpKCTaSSnB3+eWXPGelbEeMjn2/4pIjdw1i0uAtyzgEGiGRzm2yJ/d0ufyRqLQmxGwg3kwWd/Bo3Kh0xzPYqQ1/GUNRaFaCLlIMqFaCDipZDbo0Yh1gGfWGMRiGIbhtyzU8MQO4LThyLv82HI46wxArF/iJ4HdYn3llOk4UcsBtJO3XdChTGI/gvGA7R/yEI2LGmkeQSANHjkHHV5zFczDLH94zhJIsYtbk4m28jA6yhEO1Dv1kkr0St09/zCKeAF8Bz7Glr1aQA9/Nc0df46kkrJGKfPY5pEHAa+7CPb7AKuOcUeP6IdSCmA8GmlFnADjQ3SLEaBJcTy3BXt9MrQXnGOflo0xMySMZFfxAKJ+A14a9JnirsBiAdyuVzupRtYQVwo1vhuZBC3MAVxDuk7hoKJYjw2SUVlIG6WjsUmhUUCkV8CcqoH8bNT7PBdxdVAmqi5pcKc0ArXYhJNhW4LxS+T9FoiAymtdCzVW5cnEAu8M1QfC8JsxFxcDaSJeucPQGmFNKsl9IYmBRy/WPyySRXJbAw4yBCrVxIWeaM/QpzhSAQL29WoRccOdLh1nfoGctsw4paZajOTGs7IeYC/L86dx14y2g7uSekY6pVWjURsGcjsvkC0kbYMEFNT1sFd/zNG/o4dcJbuFiODRiODLIRripRVuayhxHRAmBdu77+qkdFjRj9KxyBnb0Yu3TL9vn4ctgrnK9gZ6KwDRyMRJbocC3sH6RUg9rINW1h5XsMRu9k2Y1srIBTZ9tDceGw8ElFZuy0txzjOyJa1pf13x3/E/4g1OWrwlK01Yg3E0YNISV/FzoaaiqMHkZK+ip2Nej1WLY4eRFL6Kne2whteq5k40oiU9FXubC5iLcSRRqSkTxq5VbazOapnIwaJY7Evizh6DdAnfRPYQeyamJzNVb0IxGJfBnH0GaBX+uQ8Use18pzNVT0bMUAc7b4M4kgZoFBQs5xJSV9aR/IyeX1ZnM1WvXsPH717OB0sjnZfFnH0GKBP+lpVJJ6U62yO6tlX0S+Oq31ZxNFjgD7p6wISVrnO5qhe+Fy0+7KIo9cAvdKXUnHUUspzNlf1whcduy+DOPoM0Ct9fLZv85RSnrO5qucu3V5xtPsyiGOQAco1cDZ66a5WHH0GKFXtbD49qUocAwywu1pnY9+MsYhjkAEqVTtbbbe0G8kAN8AfbOv/+At616U1DUjAuQAAAABJRU5ErkJggg==)\n",
    "\n",
    "Onde:\n",
    "\n",
    "![383c254fc602c57a059a8296357f90fdf421aee7.png](data:image/png;base64,iVBORw0KGgoAAAANSUhEUgAAAIAAAAAnBAMAAAA1CV2uAAAAMFBMVEX///8AAAAAAAAAAAAAAAAAAAAAAAAAAAAAAAAAAAAAAAAAAAAAAAAAAAAAAAAAAAAv3aB7AAAAD3RSTlMAGDJIYHSLna+/z93p8/uKPJpAAAACYklEQVR42u3Uv2sTYRzH8ffdk1x+tckh2kXoPaKIuOQGByvanggiqBiQnNrFU7mrxQotqBVcToTqohTEVlyMIgoZbLV2E4mb4FKqf0Cs0sEpBnER1KHJtWlJExuki9/1w314ft0LVh91kNbmjlM/066ajQvaZf3sslpoXNBZPwrlKDUu6F1lcaZaAghfubsssT2JnZUMuwWegub51eSka2GfyODak3AErQhwn05qTirkRwdjfpufcOI55mCaXdVTmxTliM+Y8MnB61u3C4BWoP24BbF8Pp/P+0B0VGEAwQBxRy0SLSjXgX0mGBaWoZPeOIsJn0n6QNKhbbhmB+L3FPPAPEkZyZEc83Sg24JjOpyGlPXwq0Qp0aMDaUniZe0ZhJ+rZVDLdJNwMBYvMihQer8hijwA6IGEz9ItTJMUJdha4lootUUaOkqlwLBQ05KeDsk91BllrvJSDvv60gW8oItZIvKT8k4zNNoszlWSyCSZqM+4NsoNKMYt1EeoI/aGZzUFBz2HHd4ZDmV3DkVdlBEviE95kr7zmbBrZ8C+BGK+xV+F8LoXDLVakOH//PtpRmXF7fsLlS+uRHk7CbN5lbtWojxIu7kGlQOUQyb9a1G5ijKRxHu/SZW17AXxRu4tu09YRBkN3tKcyruJY0jlB90EKMM2uElDlcUH4KgUpCTfMfQAZXBgvLHK4gsQ+/WYlKSMoQcogwMfm1SZTRP6QoEMUAYfMdOkymeJZaoFVZQRPptrH0t9lfuJmtUCinFrYb0d7rLnXl9lO+uKiak9Pw9MvFpAuXKL68zq/lYL9Ba//wNS6MD1KxaAeAAAAABJRU5ErkJggg==)"
   ]
  },
  {
   "cell_type": "code",
   "execution_count": null,
   "metadata": {
    "id": "76FIgPHxjDcx"
   },
   "outputs": [],
   "source": [
    "# rotacionar e escalar o peixe\n",
    "fish = cv2.imread('/content/intro_cv_proficam/img/fish.png', -1)\n",
    "rows, cols, c = img.shape\n",
    "\n",
    "rotation_angle = 45\n",
    "scale = 1\n",
    "\n",
    "M = cv2.getRotationMatrix2D((cols/2, rows/2), rotation_angle, scale)\n",
    "\n",
    "print(\"M:\", M)\n",
    "\n",
    "dst = cv2.warpAffine(fish, M, (cols, rows))\n",
    "plt.imshow(dst)"
   ]
  },
  {
   "cell_type": "markdown",
   "metadata": {
    "id": "aKu8Un-9YaUL"
   },
   "source": [
    "#### **Convertendo canais de cores e segmentando**\n"
   ]
  },
  {
   "cell_type": "markdown",
   "metadata": {
    "id": "mRr34PKrbxJs"
   },
   "source": [
    "![](https://www.researchgate.net/profile/Douglas_Bertol/publication/310474598/figure/fig1/AS:429814134906881@1479487083658/RGB-left-and-HSV-right-color-spaces.png)\n",
    "\n"
   ]
  },
  {
   "cell_type": "markdown",
   "metadata": {
    "id": "OFbw1ooReYXJ"
   },
   "source": [
    "- No OpenCV: \n",
    "  - Hue (0 - 170)\n",
    "  - Saturation (0 - 255)\n",
    "  - Value (0 - 255) -> brilho"
   ]
  },
  {
   "cell_type": "code",
   "execution_count": null,
   "metadata": {
    "id": "Q7vzmnzMn5SN"
   },
   "outputs": [],
   "source": [
    "# Carregar imagem das laranjas na esteira\n",
    "image = cv2.imread(\"img/laranjas.png\")\n",
    "image = cv2.cvtColor(image, cv2.COLOR_BGR2RGB)\n",
    "\n",
    "plt.imshow(image)"
   ]
  },
  {
   "cell_type": "code",
   "execution_count": null,
   "metadata": {
    "id": "ex2XF2aihqv6"
   },
   "outputs": [],
   "source": [
    "# Converter de BGR para HSV\n",
    "\n",
    "imageHSV = cv2.cvtColor(image, cv2.COLOR_RGB2HSV)\n",
    "\n",
    "# Definir o range das cores\n",
    "lower_color = np.array([0, 150, 150])\n",
    "upper_color = np.array([30, 255, 255])\n",
    "\n",
    "# Threshold da imagem dentro dos limites minimo e máximo\n",
    "mask = cv2.inRange(imageHSV, lower_color, upper_color)\n",
    "    \n",
    "# Operação de bitwise para comparação entre os valores\n",
    "res = cv2.bitwise_and(image, image, mask=mask)\n",
    "\n",
    "# Mostra o resultado\n",
    "plt.figure(figsize=(14, 9)) \n",
    "plt.subplot2grid((1,2),(0,0))\n",
    "plt.imshow(mask, cmap=\"gray\")\n",
    "\n",
    "plt.subplot2grid((1,2),(0,1))\n",
    "plt.imshow(res)"
   ]
  },
  {
   "cell_type": "code",
   "execution_count": null,
   "metadata": {
    "id": "T-e0yLVPh_um"
   },
   "outputs": [],
   "source": [
    "# Desenhando contornos\n",
    "\n",
    "# Encontra contornos\n",
    "cnts = cv2.findContours(mask, cv2.RETR_TREE, cv2.CHAIN_APPROX_SIMPLE)\n",
    "cnts = imutils.grab_contours(cnts)\n",
    "\n",
    "# Copia da imagem para manter original\n",
    "imageC = image.copy()\n",
    "\n",
    "# Desenha contorno por contorno na imagem cópia\n",
    "for c in cnts:\n",
    "  cv2.drawContours(imageC, [c], -1, (255, 0, 0), 2)\n",
    "\n",
    "plt.imshow(imageC)"
   ]
  },
  {
   "cell_type": "code",
   "execution_count": null,
   "metadata": {
    "id": "AtUpgzBKrQPs"
   },
   "outputs": [],
   "source": [
    "# Operação morfológica de erosão para tentar separar as bordas conectadas \n",
    "\n",
    "mask2 = cv2.erode(mask, None, iterations=5)\n",
    "plt.imshow(mask2, cmap=\"gray\")"
   ]
  },
  {
   "cell_type": "code",
   "execution_count": null,
   "metadata": {
    "id": "Ce8eyYl_IP8V"
   },
   "outputs": [],
   "source": [
    "# Desenhando contornos após erosão na máscara 2\n",
    "\n",
    "# Encontra contornos\n",
    "cnts = cv2.findContours(mask2, cv2.RETR_TREE, cv2.CHAIN_APPROX_SIMPLE)\n",
    "cnts = imutils.grab_contours(cnts)\n",
    "\n",
    "# Copia da imagem para manter original\n",
    "imageC = image.copy()\n",
    "\n",
    "# Desenha contorno por contorno na imagem cópia\n",
    "for c in cnts:\n",
    "  cv2.drawContours(imageC, [c], -1, (0, 0, 0), 2)\n",
    "\n",
    "plt.imshow(imageC)"
   ]
  },
  {
   "cell_type": "code",
   "execution_count": null,
   "metadata": {
    "id": "WXtNZdgiu-19"
   },
   "outputs": [],
   "source": [
    "# Encontra contornos e desenha bounding box\n",
    "\n",
    "mask3 = cv2.erode(mask, None, iterations=7)\n",
    "\n",
    "contours, _ = cv2.findContours(mask3, cv2.RETR_TREE, cv2.CHAIN_APPROX_SIMPLE)\n",
    "\n",
    "# Copia da imagem para manter original\n",
    "imageC = image.copy()\n",
    "\n",
    "# Encontra contornos\n",
    "for (i, cnt) in enumerate(contours):\n",
    "  (x, y, w, h) = cv2.boundingRect(cnt)\n",
    "  cv2.rectangle(imageC, (x, y), (x + w, y + h), (0, 255, 0), 1)\n",
    "  cv2.putText(imageC, f'#{i}', (x + int(w/2), y + int(h/2)), cv2.FONT_HERSHEY_SIMPLEX, 0.3, (0, 255, 0), 1)\n",
    "\n",
    "plt.figure(figsize=(14, 9)) \n",
    "plt.subplot2grid((1,2),(0,0))\n",
    "plt.imshow(mask3, cmap=\"gray\")\n",
    "\n",
    "plt.subplot2grid((1,2),(0,1))\n",
    "plt.imshow(imageC)"
   ]
  },
  {
   "cell_type": "markdown",
   "metadata": {
    "id": "KDFuHLUC679q"
   },
   "source": [
    "#### **Filtros**"
   ]
  },
  {
   "cell_type": "markdown",
   "metadata": {
    "id": "g_txpOPYdJoK"
   },
   "source": [
    "- Filtros de suavização"
   ]
  },
  {
   "cell_type": "code",
   "execution_count": null,
   "metadata": {
    "id": "DDd5VW6kRI1m"
   },
   "outputs": [],
   "source": [
    "# Ver imagem\n",
    "image = cv2.imread(\"img/laranjas.png\")\n",
    "image = cv2.cvtColor(image, cv2.COLOR_BGR2RGB)\n",
    "\n",
    "plt.figure(figsize=(14, 9)) \n",
    "plt.imshow(image)"
   ]
  },
  {
   "cell_type": "code",
   "execution_count": null,
   "metadata": {
    "id": "Tj64I0P5RKs8"
   },
   "outputs": [],
   "source": [
    "# Blur pela média dos pixels sob o filtro: substitui o pixel central\n",
    "\n",
    "imageB = cv2.blur(image, ksize=(10, 10))\n",
    "\n",
    "plt.figure(figsize=(14, 9)) \n",
    "plt.imshow(imageB)"
   ]
  },
  {
   "cell_type": "code",
   "execution_count": null,
   "metadata": {
    "id": "e4ZU2J1WRyJf"
   },
   "outputs": [],
   "source": [
    "# Suavização pelo filtro gaussiano (Ímpar)\n",
    "\n",
    "imageG = cv2.GaussianBlur(image, (11, 11), 0)\n",
    "\n",
    "plt.figure(figsize=(14, 9)) \n",
    "plt.imshow(imageG)"
   ]
  },
  {
   "cell_type": "code",
   "execution_count": null,
   "metadata": {
    "id": "-Ittfy8wSZWc"
   },
   "outputs": [],
   "source": [
    "# Suavização pela mediana (Ímpar)\n",
    "\n",
    "imageM = cv2.medianBlur(image, 11)\n",
    "\n",
    "plt.figure(figsize=(14, 9)) \n",
    "plt.imshow(imageM)"
   ]
  },
  {
   "cell_type": "code",
   "execution_count": null,
   "metadata": {
    "id": "gjCy6mVbS5RF"
   },
   "outputs": [],
   "source": [
    "def noisy(noise_typ, image):\n",
    "    if noise_typ == \"gauss\":\n",
    "        row,col,ch= image.shape\n",
    "        mean = 0\n",
    "        var = 200\n",
    "        sigma = var**0.5\n",
    "        gauss = np.random.normal(mean,sigma,(row,col,ch))\n",
    "        gauss = gauss.reshape(row,col,ch)\n",
    "        noisy = image + gauss\n",
    "        return noisy\n",
    "    elif noise_typ == \"s&p\":\n",
    "        row,col,ch = image.shape\n",
    "        s_vs_p = 0.5\n",
    "        amount = 0.04\n",
    "        out = np.copy(image)\n",
    "        # Salt mode\n",
    "        num_salt = np.ceil(amount * image.size * s_vs_p)\n",
    "        coords = [np.random.randint(0, i - 1, int(num_salt))\n",
    "                for i in image.shape]\n",
    "        out[coords] = 1\n",
    "\n",
    "        # Pepper mode\n",
    "        num_pepper = np.ceil(amount* image.size * (1. - s_vs_p))\n",
    "        coords = [np.random.randint(0, i - 1, int(num_pepper))\n",
    "                for i in image.shape]\n",
    "        out[coords] = 0\n",
    "        return out\n",
    "    elif noise_typ == \"poisson\":\n",
    "        vals = len(np.unique(image))\n",
    "        vals = 2 ** np.ceil(np.log2(vals))\n",
    "        noisy = np.random.poisson(image * vals) / float(vals)\n",
    "        return noisy\n",
    "    elif noise_typ ==\"speckle\":\n",
    "        row,col,ch = image.shape\n",
    "        gauss = np.random.randn(row,col,ch)\n",
    "        gauss = gauss.reshape(row,col,ch)        \n",
    "        noisy = image + image * gauss\n",
    "        return noisy"
   ]
  },
  {
   "cell_type": "code",
   "execution_count": null,
   "metadata": {
    "id": "ntwBQGjq1Up1"
   },
   "outputs": [],
   "source": [
    "lenna = cv2.imread('img/lenna.png')\n",
    "lenna = cv2.cvtColor(lenna, cv2.COLOR_BGR2RGB)\n",
    "\n",
    "plt.figure(figsize=(14, 9)) \n",
    "plt.imshow(lenna)"
   ]
  },
  {
   "cell_type": "code",
   "execution_count": null,
   "metadata": {
    "id": "bBRs7IN21pHn"
   },
   "outputs": [],
   "source": [
    "# adicionar ruido gaussiano e \"salt and pepper\"\n",
    "lenna_noise_gaus = noisy(\"gauss\", lenna)\n",
    "img_float32 = np.float32(lenna_noise_gaus)\n",
    "lenna_noise_gaus = cv2.cvtColor(img_float32, cv2.COLOR_BGR2GRAY)\n",
    "\n",
    "plt.figure(figsize=(14, 9)) \n",
    "cv2_imshow(lenna_noise_gaus)"
   ]
  },
  {
   "cell_type": "code",
   "execution_count": null,
   "metadata": {
    "id": "bpvooyRZ3HMI"
   },
   "outputs": [],
   "source": [
    "# Aplica filtro gaussiano na imagem para minimizar o ruido gaussiano\n",
    "imageG = cv2.GaussianBlur(lenna_noise_gaus, (3, 3), 0)\n",
    "\n",
    "plt.figure(figsize=(14, 9)) \n",
    "plt.subplot2grid((1,2),(0,0))\n",
    "plt.imshow(lenna_noise_gaus, cmap=\"gray\")\n",
    "\n",
    "plt.subplot2grid((1,2),(0,1))\n",
    "plt.imshow(imageG, cmap=\"gray\")"
   ]
  },
  {
   "cell_type": "code",
   "execution_count": null,
   "metadata": {
    "id": "6OaRwHsi3q7y"
   },
   "outputs": [],
   "source": [
    "# adicionar ruido \"salt and pepper\"\n",
    "lenna_noise_sp = noisy(\"s&p\", lenna)\n",
    "lenna_noise_sp = cv2.cvtColor(lenna_noise_sp, cv2.COLOR_BGR2GRAY)\n",
    "\n",
    "plt.figure(figsize=(14, 9)) \n",
    "plt.imshow(lenna_noise_sp, cmap=\"gray\")"
   ]
  },
  {
   "cell_type": "code",
   "execution_count": null,
   "metadata": {
    "id": "oIaifNwW3RuH"
   },
   "outputs": [],
   "source": [
    "# filtro da mediana para diminuir o ruido S&P\n",
    "print(lenna_noise_sp.shape)\n",
    "imageM = cv2.medianBlur(lenna_noise_sp, 3)\n",
    "\n",
    "plt.figure(figsize=(14, 9)) \n",
    "plt.subplot2grid((1,2),(0,0))\n",
    "plt.imshow(lenna_noise_sp, cmap=\"gray\")\n",
    "\n",
    "plt.subplot2grid((1,2),(0,1))\n",
    "plt.imshow(imageM, cmap=\"gray\")"
   ]
  },
  {
   "cell_type": "markdown",
   "metadata": {
    "id": "a7WOspUC3yT9"
   },
   "source": [
    "#### **Contar moedas**"
   ]
  },
  {
   "cell_type": "code",
   "execution_count": null,
   "metadata": {
    "id": "qUDqppdL33yI"
   },
   "outputs": [],
   "source": [
    "img = cv2.imread('img/moedas.png')\n",
    "img = cv2.cvtColor(img, cv2.COLOR_BGR2RGB)\n",
    "\n",
    "plt.figure(figsize=(14, 9)) \n",
    "plt.imshow(img)"
   ]
  },
  {
   "cell_type": "code",
   "execution_count": null,
   "metadata": {
    "id": "bBOsX7794H8w"
   },
   "outputs": [],
   "source": [
    "imgHSV = cv2.cvtColor(img, cv2.COLOR_RGB2HSV)\n",
    "\n",
    "mask1 = cv2.inRange(imgHSV, (15, 10, 10), (36, 250, 200))\n",
    "\n",
    "mask2 = cv2.inRange(imgHSV, (0, 100, 10), (20, 150, 100))\n",
    "\n",
    "mask = cv2.bitwise_or(mask1, mask2)\n",
    "\n",
    "plt.figure(figsize=(18, 18)) \n",
    "plt.subplot2grid((1,3),(0,0))\n",
    "plt.imshow(mask1, cmap=\"gray\")\n",
    "\n",
    "plt.subplot2grid((1,3),(0,1))\n",
    "plt.imshow(mask2, cmap=\"gray\")\n",
    "\n",
    "plt.subplot2grid((1,3),(0,2))\n",
    "plt.imshow(mask, cmap=\"gray\")"
   ]
  },
  {
   "cell_type": "code",
   "execution_count": null,
   "metadata": {
    "id": "X6_aq0m24UAI"
   },
   "outputs": [],
   "source": [
    "kernel = np.ones((3, 3),np.uint8)\n",
    "opening = cv2.morphologyEx(mask, cv2.MORPH_OPEN, kernel)\n",
    "\n",
    "plt.imshow(opening, cmap=\"gray\")"
   ]
  },
  {
   "cell_type": "code",
   "execution_count": null,
   "metadata": {
    "id": "kRBaJj2p4ak4"
   },
   "outputs": [],
   "source": [
    "dilation = cv2.dilate(opening, kernel,iterations=7)\n",
    "\n",
    "plt.imshow(dilation, cmap=\"gray\")"
   ]
  },
  {
   "cell_type": "code",
   "execution_count": null,
   "metadata": {
    "id": "q_-OXJpV4d-Q"
   },
   "outputs": [],
   "source": [
    "contours, hierarchy = cv2.findContours(dilation, cv2.RETR_EXTERNAL, cv2.CHAIN_APPROX_NONE)\n",
    "cv2.drawContours(img, contours, -1, (0, 255, 0), 2)\n",
    "\n",
    "plt.imshow(img, cmap=\"gray\")\n",
    "\n",
    "print(\"Quantas moedas foram encontradas?:\", len(contours))"
   ]
  }
 ],
 "metadata": {
  "colab": {
   "collapsed_sections": [],
   "name": "aula_01_introducao_opencv_filtros.ipynb",
   "provenance": [],
   "toc_visible": true
  },
  "kernelspec": {
   "display_name": "Python 3",
   "language": "python",
   "name": "python3"
  },
  "language_info": {
   "codemirror_mode": {
    "name": "ipython",
    "version": 3
   },
   "file_extension": ".py",
   "mimetype": "text/x-python",
   "name": "python",
   "nbconvert_exporter": "python",
   "pygments_lexer": "ipython3",
   "version": "3.5.2"
  }
 },
 "nbformat": 4,
 "nbformat_minor": 1
}
